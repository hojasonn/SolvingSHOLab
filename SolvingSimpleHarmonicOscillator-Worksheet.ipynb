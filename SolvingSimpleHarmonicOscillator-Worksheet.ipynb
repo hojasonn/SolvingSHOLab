{
 "cells": [
  {
   "cell_type": "markdown",
   "metadata": {},
   "source": [
    "# Solving the Simple Harmonic Oscillator\n",
    "...without having to use the small angle approximation. \n",
    "\n",
    "Below is a template of Python code that you will use to analyze the simple harmonic oscillator, in a similar way that you did in Excel. Here, we'll look at a couple of different numerical methods that we can use to solve the SHO numerically. \n",
    "\n",
    "If Python is new to you, or if you haven't looked at it for a while, you can refresh your memory by referring to [this cheatsheet](https://www.pythoncheatsheet.org/) as you work through this activity."
   ]
  },
  {
   "cell_type": "markdown",
   "metadata": {},
   "source": [
    "## Loading Python packages \n",
    "for numerical methods and for making pretty plots."
   ]
  },
  {
   "cell_type": "code",
   "execution_count": 2,
   "metadata": {},
   "outputs": [],
   "source": [
    "import numpy as np\n",
    "import matplotlib.pyplot as plt"
   ]
  },
  {
   "cell_type": "markdown",
   "metadata": {},
   "source": [
    "## Implementing our ODE Solver\n",
    "This ODE solver includes Euler's method, as well as two other numerical methods: the Midpoint method, and Verlet's method."
   ]
  },
  {
   "cell_type": "code",
   "execution_count": 3,
   "metadata": {},
   "outputs": [],
   "source": [
    "class ODESolver(object):\n",
    "    \"\"\"Second-order ODE Solver.\n",
    "    Parameters\n",
    "    ------------\n",
    "    omega_0 : float\n",
    "            initial angular velocity\n",
    "    theta_0 : float\n",
    "            initial angular displacement\n",
    "    eta : float\n",
    "        time step size\n",
    "    n_iter : int\n",
    "           number of steps\n",
    "        \n",
    "    Attributes\n",
    "    -----------\n",
    "    time_ : 1d-array\n",
    "        Stores time values for each time step.\n",
    "    omega_ : 1d-array\n",
    "        Stores angular velocity values for each time step.\n",
    "    theta_ : 1d-arra\n",
    "       Stores angular displacement values for each time step.\n",
    "        \n",
    "    Methods\n",
    "    -----------\n",
    "    euler(alpha): Implements the Euler algorithm for the acceleration function alpha.\n",
    "    \n",
    "    midpoint(alpha): Implements the Midpoint algorithm for the acceleration function alpha.\n",
    "    \n",
    "    verlet(alpha): Implements the Verlet algorithm for the acceleration function alpha.\n",
    "    \"\"\"\n",
    "    def __init__(self, omega_0 = 0, theta_0 = 10, delta_t=0.01, n_iter=10):\n",
    "        self.omega_0 = omega_0\n",
    "        self.theta_0 = theta_0\n",
    "        self.delta_t = delta_t\n",
    "        self.n_iter = n_iter\n",
    "        \n",
    "    def euler(self,alpha):\n",
    "        \"\"\"Implements Euler Method.\n",
    "        \n",
    "        Parameters\n",
    "        ----------\n",
    "        alpha : acceleration function\n",
    "        \n",
    "        Returns\n",
    "        -------\n",
    "        self : object\n",
    "        \"\"\"\n",
    "        self.time_ = np.zeros(self.n_iter)\n",
    "        self.omega_ = np.zeros(self.n_iter)\n",
    "        self.theta_ = np.zeros(self.n_iter)\n",
    "        self.omega_[0] = self.omega_0\n",
    "        self.theta_[0] = self.theta_0*np.pi/180.0\n",
    "        \n",
    "        for i in range(self.n_iter-1):\n",
    "            self.time_[i+1] = self.time_[i] + self.delta_t\n",
    "            self.omega_[i+1] = self.omega_[i] + self.delta_t*alpha(self.theta_[i])\n",
    "            self.theta_[i+1] = self.theta_[i] + self.delta_t*self.omega_[i]\n",
    "        return self\n",
    "    \n",
    "    def midpoint(self,alpha):\n",
    "        \"\"\"Implement Midpoint Method.\n",
    "        \n",
    "        Parameters\n",
    "        ----------\n",
    "        alpha : acceleration function\n",
    "        Returns\n",
    "        -------\n",
    "        self : object\n",
    "        \"\"\"\n",
    "        self.time_ = np.zeros(self.n_iter)\n",
    "        self.omega_ = np.zeros(self.n_iter)\n",
    "        self.theta_ = np.zeros(self.n_iter)\n",
    "        self.omega_[0] = self.omega_0\n",
    "        self.theta_[0] = self.theta_0*np.pi/180.0\n",
    "        \n",
    "        for i in range(self.n_iter-1):\n",
    "            self.time_[i+1] = self.time_[i] + self.delta_t\n",
    "            self.omega_[i+1] = self.omega_[i] + self.delta_t*alpha(self.theta_[i])\n",
    "            self.theta_[i+1] = self.theta_[i] + 0.5*self.delta_t*(self.omega_[i]+self.omega_[i+1])\n",
    "        return self\n",
    "    \n",
    "    def verlet(self,alpha):\n",
    "        \"\"\"Implement Verlet Method.\n",
    "        \n",
    "        Parameters\n",
    "        ----------\n",
    "        alpha : acceleration function\n",
    "        Returns\n",
    "        -------\n",
    "        self : object\n",
    "        \"\"\"\n",
    "        self.time_ = np.zeros(self.n_iter)\n",
    "        self.theta_ = np.zeros(self.n_iter)\n",
    "        self.theta_[0] = self.theta_0*np.pi/180.0\n",
    "        self.time_[1]= self.delta_t\n",
    "        self.theta_[1] = self.theta_[0]+self.omega_0*self.delta_t +0.5* (self.delta_t**2)*alpha(self.theta_[0])\n",
    "        \n",
    "        for i in range(self.n_iter-2):\n",
    "            self.time_[i+2] = self.time_[i+1] + self.delta_t\n",
    "            self.theta_[i+2] = 2.0*self.theta_[i+1] -self.theta_[i] + (self.delta_t**2)*alpha(self.theta_[i+1])\n",
    "        return self"
   ]
  },
  {
   "cell_type": "code",
   "execution_count": 16,
   "metadata": {},
   "outputs": [],
   "source": [
    "def alpha(x):\n",
    "    return -np.sin(x)"
   ]
  },
  {
   "cell_type": "markdown",
   "metadata": {},
   "source": [
    "## Solving the SHO\n",
    "and outputting a plot to see if it has the expected behavior"
   ]
  },
  {
   "cell_type": "code",
   "execution_count": 19,
   "metadata": {},
   "outputs": [
    {
     "data": {
      "image/png": "[encoded data removed]",
      "text/plain": [
       "<Figure size 432x288 with 1 Axes>"
      ]
     },
     "metadata": {
      "needs_background": "light"
     },
     "output_type": "display_data"
    }
   ],
   "source": [
    "# create a list of times\n",
    "time=ODESolver(omega_0 = , theta_0 = , delta_t=, n_iter=).euler(alpha).time_\n",
    "# create a list of solved angles\n",
    "theta=ODESolver(omega_0 = , theta_0 = , delta_t=, n_iter=).euler(alpha).theta_\n",
    "\n",
    "# plot the results\n",
    "plt.plot(time,theta*180/np.pi,lw=3,color='red')\n",
    "plt.xlabel('time(s)',size=13)\n",
    "plt.ylabel('angle (deg)',size=13)\n",
    "plt.title('Euler Method',size=13)\n",
    "plt.show()"
   ]
  },
  {
   "cell_type": "markdown",
   "metadata": {},
   "source": [
    "By changing the values of `start` and `end` below, try and isolate a graph of a single period of the pendulum's motion. Make sure that the values of `start` and `end` don't go beyond what you defined in `n_iter` above. "
   ]
  },
  {
   "cell_type": "code",
   "execution_count": 22,
   "metadata": {
    "scrolled": true
   },
   "outputs": [
    {
     "data": {
      "image/png": "[encoded data removed]",
      "text/plain": [
       "<Figure size 432x288 with 1 Axes>"
      ]
     },
     "metadata": {
      "needs_background": "light"
     },
     "output_type": "display_data"
    }
   ],
   "source": [
    "# plot the results for only one period\n",
    "start=0\n",
    "end=300\n",
    "plt.plot(time[start:end],theta[start:end]*180/np.pi,lw=3,color='red')\n",
    "plt.xlabel('time(s)',size=13)\n",
    "plt.ylabel('angle (deg)',size=13)\n",
    "plt.title('Euler Method',size=13)\n",
    "plt.show()"
   ]
  },
  {
   "cell_type": "code",
   "execution_count": 25,
   "metadata": {},
   "outputs": [
    {
     "ename": "IndexError",
     "evalue": "index 300 is out of bounds for axis 0 with size 300",
     "output_type": "error",
     "traceback": [
      "\u001b[1;31m---------------------------------------------------------------------------\u001b[0m",
      "\u001b[1;31mIndexError\u001b[0m                                Traceback (most recent call last)",
      "\u001b[1;32m<ipython-input-25-cefb6a1ce042>\u001b[0m in \u001b[0;36m<module>\u001b[1;34m\u001b[0m\n\u001b[0;32m      1\u001b[0m \u001b[1;31m# once you tune your graph above to approximately one period, this should give the period of one oscillation in your model\u001b[0m\u001b[1;33m\u001b[0m\u001b[1;33m\u001b[0m\u001b[1;33m\u001b[0m\u001b[0m\n\u001b[1;32m----> 2\u001b[1;33m \u001b[0mtime\u001b[0m\u001b[1;33m[\u001b[0m\u001b[0mend\u001b[0m\u001b[1;33m]\u001b[0m\u001b[1;33m\u001b[0m\u001b[1;33m\u001b[0m\u001b[0m\n\u001b[0m",
      "\u001b[1;31mIndexError\u001b[0m: index 300 is out of bounds for axis 0 with size 300"
     ]
    }
   ],
   "source": [
    "# once you tune your graph above to approximately one period, this should give the period of one oscillation in your model\n",
    "time[end]"
   ]
  }
 ],
 "metadata": {
  "kernelspec": {
   "display_name": "Python 3",
   "language": "python",
   "name": "python3"
  },
  "language_info": {
   "codemirror_mode": {
    "name": "ipython",
    "version": 3
   },
   "file_extension": ".py",
   "mimetype": "text/x-python",
   "name": "python",
   "nbconvert_exporter": "python",
   "pygments_lexer": "ipython3",
   "version": "3.8.10"
  }
 },
 "nbformat": 4,
 "nbformat_minor": 4
}
